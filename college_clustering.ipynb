{
 "cells": [
  {
   "cell_type": "markdown",
   "metadata": {},
   "source": [
    "### 4. Clustering per College\n",
    "This stage involves generating visuals to analyze and find patterns in the data."
   ]
  },
  {
   "cell_type": "code",
   "execution_count": null,
   "metadata": {},
   "outputs": [],
   "source": [
    "from sklearn.pipeline import Pipeline\n",
    "from sklearn.cluster import KMeans\n",
    "import pandas as pd\n",
    "from sklearn.metrics import silhouette_score\n",
    "import matplotlib.pyplot as plt\n",
    "import seaborn as sns\n",
    "from sklearn.preprocessing import StandardScaler\n",
    "from sklearn.decomposition import PCA\n",
    "from mpl_toolkits.mplot3d import Axes3D\n",
    "from matplotlib.animation import FuncAnimation\n",
    "import numpy as np\n",
    "from IPython.display import HTML\n",
    "\n",
    "random_seed = 0\n",
    "\n",
    "df = pd.read_csv(\"data/combined_data.csv\")\n",
    "X = df[['Quality Score', 'Difficulty Score', 'GPA']]\n",
    "y = df['College']\n",
    "\n",
    "# Silhouette Scorer function\n",
    "def silhouette_scorer(estimator, X):\n",
    "    labels = estimator.fit_predict(X)\n",
    "    return silhouette_score(X, labels)\n",
    "\n",
    "# Function to update the angle of view for viewing it in 3d\n",
    "def rotate(angle):\n",
    "    global ax\n",
    "    if ax is not None:\n",
    "        ax.view_init(elev=30, azim=angle)\n",
    "    else:\n",
    "        print(\"No plot available to rotate.\")"
   ]
  },
  {
   "cell_type": "code",
   "execution_count": null,
   "metadata": {},
   "outputs": [],
   "source": [
    "# TODO: Visualize data points and rating distributions for each college individually\n",
    "# TODO: Visualize aggregation + average of data points and rating distributions for all colleges\n",
    "# TODO: Visualize "
   ]
  },
  {
   "cell_type": "markdown",
   "metadata": {},
   "source": [
    "#### College of Agriculture and Life Sciences"
   ]
  },
  {
   "cell_type": "code",
   "execution_count": null,
   "metadata": {},
   "outputs": [],
   "source": [
    "college_df = df[df['College'] == 'College of Agriculture and Life Sciences']\n",
    "college = college_df[['Quality Score', 'Difficulty Score', 'GPA']]\n",
    "best_kmeans = Pipeline([\n",
    "    ('scaler', StandardScaler()),\n",
    "    ('pca', PCA(n_components=3)), \n",
    "    ('km', KMeans(n_clusters=3, random_state=random_seed))])\n",
    "output = best_kmeans.fit_predict(college)\n",
    "sns.scatterplot(x=college['Quality Score'], y=college['Difficulty Score'], hue=output, palette='bright', alpha=0.2)\n",
    "plt.legend(title=\"Cluster Labels\", bbox_to_anchor=(1.25, 1), loc='upper right')\n",
    "plt.title(\"KMeans Clustering Results\")\n",
    "plt.xlabel(\"Quality Score\")\n",
    "plt.ylabel(\"Difficulty Score\")\n",
    "plt.show()"
   ]
  },
  {
   "cell_type": "code",
   "execution_count": null,
   "metadata": {},
   "outputs": [],
   "source": [
    "# 3D plot with GPA as the third axis\n",
    "fig = plt.figure(figsize=(10, 8))\n",
    "ax = fig.add_subplot(111, projection='3d')\n",
    "\n",
    "\n",
    "# Using Seaborn's color palette to manually match the 2D graph colors\n",
    "palette = sns.color_palette(\"bright\", n_colors=3)\n",
    "colors = [palette[label] for label in output]\n",
    "\n",
    "# Plotting the data points in 3D space with colors based on cluster labels\n",
    "scatter = ax.scatter(college['Quality Score'], college['Difficulty Score'], college['GPA'], c=colors, alpha=0.4)\n",
    "\n",
    "# Adding labels \n",
    "ax.set_xlabel(\"Quality Score\")\n",
    "ax.set_ylabel(\"Difficulty Score\")\n",
    "ax.set_ylim(1, 5)\n",
    "ax.set_zlabel(\"GPA\")\n",
    "ax.set_zlim(0, 4)\n",
    "ax.set_title(\"3D KMeans Clustering Results for Agriculture and Life Sciences\")\n",
    "\n",
    "# Adding a legend to match the cluster labels\n",
    "for label, color in enumerate(palette):\n",
    "    ax.scatter([], [], [], color=color, label=f\"{label}\")\n",
    "# Locating the Legend\n",
    "plt.legend(title=\"Cluster Labels\", bbox_to_anchor=(1.25, 1), loc='upper right')\n",
    "\n",
    "plt.show()\n",
    "\n",
    "# Creating an animation for a better view\n",
    "ani = FuncAnimation(fig, rotate, frames=np.arange(0, 360, 1), interval=50)\n",
    "\n",
    "# To display in Jupyter Notebook, We are going to use HTML display\n",
    "HTML(ani.to_jshtml())"
   ]
  },
  {
   "cell_type": "markdown",
   "metadata": {},
   "source": [
    "### College of Design"
   ]
  },
  {
   "cell_type": "code",
   "execution_count": null,
   "metadata": {},
   "outputs": [],
   "source": [
    "college_df = df[df['College'] == 'College of Design']\n",
    "college = college_df[['Quality Score', 'Difficulty Score', 'GPA']]\n",
    "best_kmeans = Pipeline([\n",
    "    ('scaler', StandardScaler()),\n",
    "    ('pca', PCA(n_components=3)), \n",
    "    ('km', KMeans(n_clusters=3, random_state=random_seed))])\n",
    "output = best_kmeans.fit_predict(college)\n",
    "sns.scatterplot(x=college['Quality Score'], y=college['Difficulty Score'], hue=output, palette='bright', alpha=0.2)\n",
    "plt.legend(title=\"Cluster Labels\", bbox_to_anchor=(1.25, 1), loc='upper right')\n",
    "plt.title(\"KMeans Clustering Results\")\n",
    "plt.xlabel(\"Quality Score\")\n",
    "plt.ylabel(\"Difficulty Score\")\n",
    "plt.show()"
   ]
  },
  {
   "cell_type": "code",
   "execution_count": null,
   "metadata": {},
   "outputs": [],
   "source": [
    "# 3D plot with GPA as the third axis\n",
    "fig = plt.figure(figsize=(10, 8))\n",
    "ax = fig.add_subplot(111, projection='3d')\n",
    "\n",
    "# Using Seaborn's color palette to manually match the 2D graph colors\n",
    "palette = sns.color_palette(\"bright\", n_colors=3)\n",
    "colors = [palette[label] for label in output]\n",
    "\n",
    "# Plotting the data points in 3D space with colors based on cluster labels\n",
    "scatter = ax.scatter(college['Quality Score'], college['Difficulty Score'], college['GPA'], c=colors, alpha=0.4)\n",
    "\n",
    "# Adding labels \n",
    "ax.set_xlabel(\"Quality Score\")\n",
    "ax.set_ylabel(\"Difficulty Score\")\n",
    "ax.set_zlabel(\"GPA\")\n",
    "ax.set_zlim(0, 4)\n",
    "ax.set_title(\"3D KMeans Clustering Results for College of Design\")\n",
    "\n",
    "# Adding a legend to match the cluster labels\n",
    "for label, color in enumerate(palette):\n",
    "    ax.scatter([], [], [], color=color, label=f\"{label}\")\n",
    "# Locating the Legend\n",
    "plt.legend(title=\"Cluster Labels\", bbox_to_anchor=(1.25, 1), loc='upper right')\n",
    "\n",
    "plt.show()\n",
    "\n",
    "# Creating an animation for a better view\n",
    "ani = FuncAnimation(fig, rotate, frames=np.arange(0, 360, 1), interval=50)\n",
    "\n",
    "# To display in Jupyter Notebook, We are going to use HTML display\n",
    "HTML(ani.to_jshtml())"
   ]
  },
  {
   "cell_type": "markdown",
   "metadata": {},
   "source": [
    "#### College of Education"
   ]
  },
  {
   "cell_type": "code",
   "execution_count": null,
   "metadata": {},
   "outputs": [],
   "source": [
    "college_df = df[df['College'] == 'College of Education']\n",
    "college = college_df[['Quality Score', 'Difficulty Score', 'GPA']]\n",
    "best_kmeans = Pipeline([\n",
    "    ('scaler', StandardScaler()),\n",
    "    ('pca', PCA(n_components=3)), \n",
    "    ('km', KMeans(n_clusters=3, random_state=random_seed))])\n",
    "output = best_kmeans.fit_predict(college)\n",
    "sns.scatterplot(x=college['Quality Score'], y=college['Difficulty Score'], hue=output, palette='bright', alpha=0.2)\n",
    "plt.legend(title=\"Cluster Labels\", bbox_to_anchor=(1.25, 1), loc='upper right')\n",
    "plt.title(\"KMeans Clustering Results\")\n",
    "plt.xlabel(\"Quality Score\")\n",
    "plt.ylabel(\"Difficulty Score\")\n",
    "plt.show()"
   ]
  },
  {
   "cell_type": "code",
   "execution_count": null,
   "metadata": {},
   "outputs": [],
   "source": [
    "# 3D plot with GPA as the third axis\n",
    "fig = plt.figure(figsize=(10, 8))\n",
    "ax = fig.add_subplot(111, projection='3d')\n",
    "\n",
    "# Using Seaborn's color palette to manually match the 2D graph colors\n",
    "palette = sns.color_palette(\"bright\", n_colors=3)\n",
    "colors = [palette[label] for label in output]\n",
    "\n",
    "# Plotting the data points in 3D space with colors based on cluster labels\n",
    "scatter = ax.scatter(college['Quality Score'], college['Difficulty Score'], college['GPA'], c=colors, alpha=0.4)\n",
    "\n",
    "# Adding labels \n",
    "ax.set_xlabel(\"Quality Score\")\n",
    "ax.set_ylabel(\"Difficulty Score\")\n",
    "ax.set_zlabel(\"GPA\")\n",
    "ax.set_zlim(0, 4)\n",
    "ax.set_title(\"3D KMeans Clustering Results for College of Education\")\n",
    "\n",
    "# Adding a legend to match the cluster labels\n",
    "for label, color in enumerate(palette):\n",
    "    ax.scatter([], [], [], color=color, label=f\"{label}\")\n",
    "# Locating the Legend\n",
    "plt.legend(title=\"Cluster Labels\", bbox_to_anchor=(1.25, 1), loc='upper right')\n",
    "plt.show()\n",
    "\n",
    "# Creating an animation for a better view\n",
    "ani = FuncAnimation(fig, rotate, frames=np.arange(0, 360, 1), interval=50)\n",
    "\n",
    "# To display in Jupyter Notebook, We are going to use HTML display\n",
    "HTML(ani.to_jshtml())"
   ]
  },
  {
   "cell_type": "markdown",
   "metadata": {},
   "source": [
    "#### College of Engineering"
   ]
  },
  {
   "cell_type": "code",
   "execution_count": 73,
   "metadata": {},
   "outputs": [
    {
     "data": {
      "image/png": "[encoded data removed]",
      "text/plain": [
       "<Figure size 640x480 with 1 Axes>"
      ]
     },
     "metadata": {},
     "output_type": "display_data"
    }
   ],
   "source": [
    "college_df = df[df['College'] == 'College of Engineering']\n",
    "college = college_df[['Quality Score', 'Difficulty Score', 'GPA']]\n",
    "best_kmeans = Pipeline([\n",
    "    ('scaler', StandardScaler()),\n",
    "    ('pca', PCA(n_components=3)), \n",
    "    ('km', KMeans(n_clusters=3, random_state=random_seed))])\n",
    "output = best_kmeans.fit_predict(college)\n",
    "sns.scatterplot(x=college['Quality Score'], y=college['Difficulty Score'], hue=output, palette='bright', alpha=0.2)\n",
    "plt.legend(title=\"Cluster Labels\", bbox_to_anchor=(1.25, 1), loc='upper right')\n",
    "plt.title(\"KMeans Clustering Results\")\n",
    "plt.xlabel(\"Quality Score\")\n",
    "plt.ylabel(\"Difficulty Score\")\n",
    "plt.show()"
   ]
  },
  {
   "cell_type": "code",
   "execution_count": null,
   "metadata": {},
   "outputs": [],
   "source": [
    "# 3D plot with GPA as the third axis\n",
    "fig = plt.figure(figsize=(10, 8))\n",
    "ax = fig.add_subplot(111, projection='3d')\n",
    "\n",
    "# Using Seaborn's color palette to manually match the 2D graph colors\n",
    "palette = sns.color_palette(\"bright\", n_colors=3)\n",
    "colors = [palette[label] for label in output]\n",
    "\n",
    "# Plotting the data points in 3D space with colors based on cluster labels\n",
    "scatter = ax.scatter(college['Quality Score'], college['Difficulty Score'], college['GPA'], c=colors, alpha=0.4)\n",
    "\n",
    "# Adding labels \n",
    "ax.set_xlabel(\"Quality Score\")\n",
    "ax.set_ylabel(\"Difficulty Score\")\n",
    "ax.set_zlabel(\"GPA\")\n",
    "ax.set_zlim(0, 4)\n",
    "ax.set_title(\"3D KMeans Clustering Results for College of Engineering\")\n",
    "\n",
    "# Adding a legend to match the cluster labels\n",
    "for label, color in enumerate(palette):\n",
    "    ax.scatter([], [], [], color=color, label=f\"{label}\")\n",
    "# Locating the Legend\n",
    "plt.legend(title=\"Cluster Labels\", bbox_to_anchor=(1.25, 1), loc='upper right')\n",
    "plt.show()\n",
    "\n",
    "# Creating an animation for a better view\n",
    "ani = FuncAnimation(fig, rotate, frames=np.arange(0, 360, 1), interval=50)\n",
    "\n",
    "# To display in Jupyter Notebook, We are going to use HTML display\n",
    "HTML(ani.to_jshtml())"
   ]
  },
  {
   "cell_type": "markdown",
   "metadata": {},
   "source": [
    "#### College of Humanities and Social Sciences"
   ]
  },
  {
   "cell_type": "code",
   "execution_count": null,
   "metadata": {},
   "outputs": [],
   "source": [
    "college_df = df[df['College'] == 'College of Humanities and Social Sciences']\n",
    "college = college_df[['Quality Score', 'Difficulty Score', 'GPA']]\n",
    "best_kmeans = Pipeline([\n",
    "    ('scaler', StandardScaler()),\n",
    "    ('pca', PCA(n_components=3)), \n",
    "    ('km', KMeans(n_clusters=3, random_state=random_seed))])\n",
    "output = best_kmeans.fit_predict(college)\n",
    "sns.scatterplot(x=college['Quality Score'], y=college['Difficulty Score'], hue=output, palette='bright', alpha=0.2)\n",
    "plt.legend(title=\"Cluster Labels\", bbox_to_anchor=(1.25, 1), loc='upper right')\n",
    "plt.title(\"KMeans Clustering Results\")\n",
    "plt.xlabel(\"Quality Score\")\n",
    "plt.ylabel(\"Difficulty Score\")\n",
    "plt.show()"
   ]
  },
  {
   "cell_type": "code",
   "execution_count": null,
   "metadata": {},
   "outputs": [],
   "source": [
    "# 3D plot with GPA as the third axis\n",
    "fig = plt.figure(figsize=(10, 8))\n",
    "ax = fig.add_subplot(111, projection='3d')\n",
    "\n",
    "# Using Seaborn's color palette to manually match the 2D graph colors\n",
    "palette = sns.color_palette(\"bright\", n_colors=3)\n",
    "colors = [palette[label] for label in output]\n",
    "\n",
    "# Plotting the data points in 3D space with colors based on cluster labels\n",
    "scatter = ax.scatter(college['Quality Score'], college['Difficulty Score'], college['GPA'], c=colors, alpha=0.4)\n",
    "\n",
    "# Adding labels \n",
    "ax.set_xlabel(\"Quality Score\")\n",
    "ax.set_ylabel(\"Difficulty Score\")\n",
    "ax.set_zlabel(\"GPA\")\n",
    "ax.set_zlim(0, 4)\n",
    "ax.set_title(\"3D KMeans Clustering Results for College of Humanities and Social Sciences\")\n",
    "\n",
    "# Adding a legend to match the cluster labels\n",
    "for label, color in enumerate(palette):\n",
    "    ax.scatter([], [], [], color=color, label=f\"{label}\")\n",
    "# Locating the Legend\n",
    "plt.legend(title=\"Cluster Labels\", bbox_to_anchor=(1.25, 1), loc='upper right')\n",
    "plt.show()\n",
    "\n",
    "# Creating an animation for a better view\n",
    "ani = FuncAnimation(fig, rotate, frames=np.arange(0, 360, 1), interval=50)\n",
    "\n",
    "# To display in Jupyter Notebook, We are going to use HTML display\n",
    "HTML(ani.to_jshtml())"
   ]
  },
  {
   "cell_type": "markdown",
   "metadata": {},
   "source": [
    "#### College of Natural Resources"
   ]
  },
  {
   "cell_type": "code",
   "execution_count": null,
   "metadata": {},
   "outputs": [],
   "source": [
    "college_df = df[df['College'] == 'College of Natural Resources']\n",
    "college = college_df[['Quality Score', 'Difficulty Score', 'GPA']]\n",
    "best_kmeans = Pipeline([\n",
    "    ('scaler', StandardScaler()),\n",
    "    ('pca', PCA(n_components=3)), \n",
    "    ('km', KMeans(n_clusters=3, random_state=random_seed))])\n",
    "output = best_kmeans.fit_predict(college)\n",
    "sns.scatterplot(x=college['Quality Score'], y=college['Difficulty Score'], hue=output, palette='bright', alpha=0.2)\n",
    "plt.legend(title=\"Cluster Labels\", bbox_to_anchor=(1.25, 1), loc='upper right')\n",
    "plt.title(\"KMeans Clustering Results\")\n",
    "plt.xlabel(\"Quality Score\")\n",
    "plt.ylabel(\"Difficulty Score\")\n",
    "plt.show()"
   ]
  },
  {
   "cell_type": "code",
   "execution_count": null,
   "metadata": {},
   "outputs": [],
   "source": [
    "# 3D plot with GPA as the third axis\n",
    "fig = plt.figure(figsize=(10, 8))\n",
    "ax = fig.add_subplot(111, projection='3d')\n",
    "\n",
    "# Using Seaborn's color palette to manually match the 2D graph colors\n",
    "palette = sns.color_palette(\"bright\", n_colors=3)\n",
    "colors = [palette[label] for label in output]\n",
    "\n",
    "# Plotting the data points in 3D space with colors based on cluster labels\n",
    "scatter = ax.scatter(college['Quality Score'], college['Difficulty Score'], college['GPA'], c=colors, alpha=0.4)\n",
    "\n",
    "# Adding labels \n",
    "ax.set_xlabel(\"Quality Score\")\n",
    "ax.set_ylabel(\"Difficulty Score\")\n",
    "ax.set_zlabel(\"GPA\")\n",
    "ax.set_zlim(0, 4)\n",
    "ax.set_title(\"3D KMeans Clustering Results for College of Natural Resources\")\n",
    "\n",
    "# Adding a legend to match the cluster labels\n",
    "for label, color in enumerate(palette):\n",
    "    ax.scatter([], [], [], color=color, label=f\"{label}\")\n",
    "# Locating the Legend\n",
    "plt.legend(title=\"Cluster Labels\", bbox_to_anchor=(1.25, 1), loc='upper right')\n",
    "plt.show()\n",
    "\n",
    "# Creating an animation for a better view\n",
    "ani = FuncAnimation(fig, rotate, frames=np.arange(0, 360, 1), interval=50)\n",
    "\n",
    "# To display in Jupyter Notebook, We are going to use HTML display\n",
    "HTML(ani.to_jshtml())"
   ]
  },
  {
   "cell_type": "markdown",
   "metadata": {},
   "source": [
    "#### College of Sciences"
   ]
  },
  {
   "cell_type": "code",
   "execution_count": null,
   "metadata": {},
   "outputs": [],
   "source": [
    "college_df = df[df['College'] == 'College of Sciences']\n",
    "college = college_df[['Quality Score', 'Difficulty Score', 'GPA']]\n",
    "best_kmeans = Pipeline([\n",
    "    ('scaler', StandardScaler()),\n",
    "    ('pca', PCA(n_components=3)), \n",
    "    ('km', KMeans(n_clusters=3, random_state=random_seed))])\n",
    "output = best_kmeans.fit_predict(college)\n",
    "sns.scatterplot(x=college['Quality Score'], y=college['Difficulty Score'], hue=output, palette='bright', alpha=0.2)\n",
    "plt.legend(title=\"Cluster Labels\", bbox_to_anchor=(1.25, 1), loc='upper right')\n",
    "plt.title(\"KMeans Clustering Results\")\n",
    "plt.xlabel(\"Quality Score\")\n",
    "plt.ylabel(\"Difficulty Score\")\n",
    "plt.show()"
   ]
  },
  {
   "cell_type": "code",
   "execution_count": null,
   "metadata": {},
   "outputs": [],
   "source": [
    "# 3D plot with GPA as the third axis\n",
    "fig = plt.figure(figsize=(10, 8))\n",
    "ax = fig.add_subplot(111, projection='3d')\n",
    "\n",
    "# Using Seaborn's color palette to manually match the 2D graph colors\n",
    "palette = sns.color_palette(\"bright\", n_colors=3)\n",
    "colors = [palette[label] for label in output]\n",
    "\n",
    "# Plotting the data points in 3D space with colors based on cluster labels\n",
    "scatter = ax.scatter(college['Quality Score'], college['Difficulty Score'], college['GPA'], c=colors, alpha=0.4)\n",
    "\n",
    "# Adding labels \n",
    "ax.set_xlabel(\"Quality Score\")\n",
    "ax.set_ylabel(\"Difficulty Score\")\n",
    "ax.set_zlabel(\"GPA\")\n",
    "ax.set_zlim(0, 4)\n",
    "ax.set_title(\"3D KMeans Clustering Results for College of Sciences\")\n",
    "\n",
    "# Adding a legend to match the cluster labels\n",
    "for label, color in enumerate(palette):\n",
    "    ax.scatter([], [], [], color=color, label=f\"{label}\")\n",
    "# Locating the Legend\n",
    "plt.legend(title=\"Cluster Labels\", bbox_to_anchor=(1.25, 1), loc='upper right')\n",
    "plt.show()\n",
    "\n",
    "# Creating an animation for a better view\n",
    "ani = FuncAnimation(fig, rotate, frames=np.arange(0, 360, 1), interval=50)\n",
    "\n",
    "# To display in Jupyter Notebook, We are going to use HTML display\n",
    "HTML(ani.to_jshtml())"
   ]
  },
  {
   "cell_type": "markdown",
   "metadata": {},
   "source": [
    "#### Poole College of Management"
   ]
  },
  {
   "cell_type": "code",
   "execution_count": null,
   "metadata": {},
   "outputs": [],
   "source": [
    "college_df = df[df['College'] == 'Poole College of Management']\n",
    "college = college_df[['Quality Score', 'Difficulty Score', 'GPA']]\n",
    "best_kmeans = Pipeline([\n",
    "    ('scaler', StandardScaler()),\n",
    "    ('pca', PCA(n_components=3)), \n",
    "    ('km', KMeans(n_clusters=3, random_state=random_seed))])\n",
    "output = best_kmeans.fit_predict(college)\n",
    "sns.scatterplot(x=college['Quality Score'], y=college['Difficulty Score'], hue=output, palette='bright', alpha=0.2)\n",
    "plt.legend(title=\"Cluster Labels\", bbox_to_anchor=(1.25, 1), loc='upper right')\n",
    "plt.title(\"KMeans Clustering Results\")\n",
    "plt.xlabel(\"Quality Score\")\n",
    "plt.ylabel(\"Difficulty Score\")\n",
    "plt.show()"
   ]
  },
  {
   "cell_type": "code",
   "execution_count": null,
   "metadata": {},
   "outputs": [],
   "source": [
    "# 3D plot with GPA as the third axis\n",
    "fig = plt.figure(figsize=(10, 8))\n",
    "ax = fig.add_subplot(111, projection='3d')\n",
    "\n",
    "# Using Seaborn's color palette to manually match the 2D graph colors\n",
    "palette = sns.color_palette(\"bright\", n_colors=3)\n",
    "colors = [palette[label] for label in output]\n",
    "\n",
    "# Plotting the data points in 3D space with colors based on cluster labels\n",
    "scatter = ax.scatter(college['Quality Score'], college['Difficulty Score'], college['GPA'], c=colors, alpha=0.4)\n",
    "\n",
    "# Adding labels \n",
    "ax.set_xlabel(\"Quality Score\")\n",
    "ax.set_ylabel(\"Difficulty Score\")\n",
    "ax.set_zlabel(\"GPA\")\n",
    "ax.set_zlim(0, 4)\n",
    "ax.set_title(\"3D KMeans Clustering Results for Poole College of Management\")\n",
    "\n",
    "# Adding a legend to match the cluster labels\n",
    "for label, color in enumerate(palette):\n",
    "    ax.scatter([], [], [], color=color, label=f\"{label}\")\n",
    "# Locating the Legend\n",
    "plt.legend(title=\"Cluster Labels\", bbox_to_anchor=(1.25, 1), loc='upper right')\n",
    "plt.show()\n",
    "\n",
    "# Creating an animation for a better view\n",
    "ani = FuncAnimation(fig, rotate, frames=np.arange(0, 360, 1), interval=50)\n",
    "\n",
    "# To display in Jupyter Notebook, We are going to use HTML display\n",
    "HTML(ani.to_jshtml())"
   ]
  },
  {
   "cell_type": "markdown",
   "metadata": {},
   "source": [
    "#### Wilson College of Textiles"
   ]
  },
  {
   "cell_type": "code",
   "execution_count": null,
   "metadata": {},
   "outputs": [],
   "source": [
    "college_df = df[df['College'] == 'Wilson College of Textiles']\n",
    "college = college_df[['Quality Score', 'Difficulty Score', 'GPA']]\n",
    "print(college.shape)\n",
    "best_kmeans = Pipeline([\n",
    "    ('scaler', StandardScaler()),\n",
    "    ('pca', PCA(n_components=2)),\n",
    "    ('km', KMeans(n_clusters=2, random_state=random_seed))])\n",
    "output = best_kmeans.fit_predict(college)\n",
    "sns.scatterplot(x=college['Quality Score'], y=college['Difficulty Score'], hue=output, palette='bright', alpha=0.2)\n",
    "plt.legend(title=\"Cluster Labels\", bbox_to_anchor=(1.25, 1), loc='upper right')\n",
    "plt.title(\"KMeans Clustering Results\")\n",
    "plt.xlabel(\"Quality Score\")\n",
    "plt.ylabel(\"Difficulty Score\")\n",
    "plt.xlim(1.0, 5.0)\n",
    "plt.ylim(1.0, 5.0)\n",
    "plt.show()"
   ]
  },
  {
   "cell_type": "code",
   "execution_count": null,
   "metadata": {},
   "outputs": [],
   "source": [
    "# 3D plot with GPA as the third axis\n",
    "fig = plt.figure(figsize=(10, 8))\n",
    "ax = fig.add_subplot(111, projection='3d')\n",
    "\n",
    "# Using Seaborn's color palette to manually match the 2D graph colors\n",
    "palette = sns.color_palette(\"bright\", n_colors=3)\n",
    "colors = [palette[label] for label in output]\n",
    "\n",
    "# Plotting the data points in 3D space with colors based on cluster labels\n",
    "scatter = ax.scatter(college['Quality Score'], college['Difficulty Score'], college['GPA'], c=colors, alpha=0.4)\n",
    "\n",
    "# Adding labels \n",
    "ax.set_xlabel(\"Quality Score\")\n",
    "ax.set_ylabel(\"Difficulty Score\")\n",
    "ax.set_zlabel(\"GPA\")\n",
    "ax.set_zlim(0, 4)\n",
    "ax.set_title(\"3D KMeans Clustering Results for Wilson College of Textiles\")\n",
    "\n",
    "# Adding a legend to match the cluster labels\n",
    "for label, color in enumerate(palette):\n",
    "    ax.scatter([], [], [], color=color, label=f\"{label}\")\n",
    "# Locating the Legend\n",
    "plt.legend(title=\"Cluster Labels\", bbox_to_anchor=(1.25, 1), loc='upper right')\n",
    "plt.show()\n",
    "\n",
    "# Creating an animation for a better view\n",
    "ani = FuncAnimation(fig, rotate, frames=np.arange(0, 360, 1), interval=50)\n",
    "\n",
    "# To display in Jupyter Notebook, We are going to use HTML display\n",
    "HTML(ani.to_jshtml())"
   ]
  },
  {
   "cell_type": "markdown",
   "metadata": {},
   "source": [
    "### 5. Interpretation\n",
    "This stage involves computing metrics to drive insights about the data."
   ]
  },
  {
   "cell_type": "code",
   "execution_count": null,
   "metadata": {},
   "outputs": [],
   "source": [
    "# TODO: Calculate and compare weighted averages of ratings for each college, compare to global averages\n",
    "# TODO: Calculate metrics like standard deviation, median, outliers, for each college and globally\n",
    "# TODO: Compare expected salary with average ratings for each college"
   ]
  }
 ],
 "metadata": {
  "kernelspec": {
   "display_name": "Python 3",
   "language": "python",
   "name": "python3"
  },
  "language_info": {
   "codemirror_mode": {
    "name": "ipython",
    "version": 3
   },
   "file_extension": ".py",
   "mimetype": "text/x-python",
   "name": "python",
   "nbconvert_exporter": "python",
   "pygments_lexer": "ipython3",
   "version": "3.12.4"
  }
 },
 "nbformat": 4,
 "nbformat_minor": 2
}
