{
 "cells": [
  {
   "cell_type": "markdown",
   "metadata": {},
   "source": [
    "# CSC 522 Group 8 Project\n",
    "\n",
    "## Professor Insights: Clustering Quality and Difficulty Across NCSU Colleges\n",
    "\n",
    "This project is a data science project that uses the [RateMyProfessors](https://www.ratemyprofessors.com/) website to scrape data on professors and their ratings. The data is then used to cluster the professors based on their quality and difficulty ratings, and identify similarities and differences of the rating distributions across colleges."
   ]
  },
  {
   "cell_type": "markdown",
   "metadata": {},
   "source": [
    "### 1. Data Aquisition\n",
    "This cell scrapes the most up-to-date data on all NCSU professors on RateMyProfessors and saves the data to a JSON file. This takes less than 30 seconds to execute, and does not need to be re-run if the file already exists."
   ]
  },
  {
   "cell_type": "code",
   "execution_count": null,
   "metadata": {},
   "outputs": [],
   "source": [
    "import json\n",
    "from ratemyprofessors import RateMyProfessorsAPI\n",
    "\n",
    "\n",
    "api = RateMyProfessorsAPI()\n",
    "school = api.search_school(\"NCSU\")\n",
    "\n",
    "professors = []\n",
    "\n",
    "# Get all NCSU professors on RateMyProfessors\n",
    "cursor = \"\"\n",
    "while True:\n",
    "    result = api.search_teachers(school['id'], \"\", limit=1000, cursor=cursor)\n",
    "    if not result['teachers']:\n",
    "        break\n",
    "    cursor = result['end_cursor']\n",
    "    for professor in result['teachers']:\n",
    "        del professor['school']\n",
    "    professors.extend(result['teachers'])\n",
    "\n",
    "print(len(professors), 'professors fetched')\n",
    "\n",
    "# Filter out professors with no ratings\n",
    "professors = list(filter(lambda professor: professor['num_ratings'] > 0, professors))\n",
    "\n",
    "print(len(professors), 'professors with ratings')\n",
    "\n",
    "# Sort by most ratings in descending order    \n",
    "professors.sort(key=lambda professor: professor['num_ratings'], reverse=True)\n",
    "\n",
    "with open(\"data/professors.json\", \"w\") as file:\n",
    "    json.dump(professors, file, indent=2)"
   ]
  },
  {
   "cell_type": "markdown",
   "metadata": {},
   "source": [
    "This cell scrapes distributions for every course from the gradient database, calculating the average GPA for each section. It is designed to be able to be computed in multiple executions in case the authorization tokens expire before the scraping is complete. This process takes multiple hours to complete.\n",
    "\n",
    "To execute this cell, you must have valid authentication headers in a file named `gradient-headers.txt`."
   ]
  },
  {
   "cell_type": "code",
   "execution_count": 7,
   "metadata": {},
   "outputs": [],
   "source": [
    "import json\n",
    "from gradient import GradientAPI\n",
    "\n",
    "\n",
    "with open(\"data/colleges.json\") as file:\n",
    "    colleges = json.load(file)\n",
    "\n",
    "try:\n",
    "    with open(\"data/distributions.json\", \"r\") as file:\n",
    "        distributions = json.load(file)\n",
    "        last_subject, last_course = distributions[-1][\"courseName\"].split()[:2]\n",
    "except:\n",
    "    distributions = []\n",
    "    last_subject = last_course = None\n",
    "\n",
    "\n",
    "api = GradientAPI(request_delay=2)\n",
    "\n",
    "found = False\n",
    "try:\n",
    "    for college in colleges:\n",
    "        for subject in colleges[college][\"subjects\"]:\n",
    "            # Check if we have already fetched this subject\n",
    "            if last_subject and not found:\n",
    "                if subject != last_subject:\n",
    "                    continue\n",
    "                found = True\n",
    "            \n",
    "            for course_distributions in api.get_subject_distrubutions(subject, last_course if subject == last_subject else None):\n",
    "                if \"individual\" not in course_distributions:\n",
    "                    continue\n",
    "                \n",
    "                for section in course_distributions[\"individual\"]:\n",
    "                    a, b, c, d, f, s, u, w = (section[\"grades\"][grade][\"raw\"] for grade in [\"A\", \"B\", \"C\", \"D\", \"F\", \"S\", \"U\", \"W\"])\n",
    "                    total = a + b + c + d + f + s + u + w\n",
    "                    gpa = round((a * 4 + b * 3 + c * 2 + d + s * 3) / total, 2) if total else 0\n",
    "                    \n",
    "                    section[\"gpa\"] = gpa\n",
    "                    section[\"total\"] = total\n",
    "                    section[\"college\"] = college\n",
    "                    del section[\"grades\"]\n",
    "                    del section[\"googleChart\"]\n",
    "                \n",
    "                distributions.extend(course_distributions[\"individual\"])\n",
    "except:\n",
    "    # gracefully handle exceptions or interruptions\n",
    "    pass\n",
    "finally:\n",
    "    with open(\"data/distributions.json\", \"w\") as file:\n",
    "        json.dump(distributions, file, indent=2)"
   ]
  },
  {
   "cell_type": "markdown",
   "metadata": {},
   "source": [
    "### 2. Data Preprocessing\n",
    "\n",
    "This cell processes the data and tags each professor with their college using a file generated by an LLM and manually validated that maps college names to department names. It then combines duplicate professors (same name and same department) into a single entry with a weighted average of their ratings."
   ]
  },
  {
   "cell_type": "code",
   "execution_count": null,
   "metadata": {},
   "outputs": [],
   "source": [
    "import json\n",
    "import difflib\n",
    "\n",
    "\n",
    "with open(\"data/professors.json\", \"r\") as file:\n",
    "    professors = json.load(file)\n",
    "    \n",
    "with open(\"data/colleges.json\", \"r\") as file:\n",
    "    colleges = json.load(file)\n",
    "\n",
    "\n",
    "# Construct a map from department to college\n",
    "department_map = {department: college for college, departments in colleges.items() for department in departments}\n",
    "\n",
    "# Fuzzy search for the best department match and assign the college\n",
    "for professor in professors:\n",
    "    department = professor['department']\n",
    "    result = difflib.get_close_matches(department, department_map.keys(), cutoff=0.75)\n",
    "    professor['college'] = department_map[result[0]] if result else None\n",
    "\n",
    "\n",
    "# Combine duplicate entries of the same professor that belong to the same college\n",
    "names = set()\n",
    "duplicates_names = []\n",
    "\n",
    "for professor in professors:\n",
    "    name = professor['name']\n",
    "    if name in names and name not in duplicates_names:\n",
    "        duplicates_names.append(name)\n",
    "    names.add(name)\n",
    "\n",
    "duplicates = {}\n",
    "for professor in filter(lambda professor: professor['name'] in duplicates_names, professors):\n",
    "    key = (professor['name'], professor['college'])\n",
    "    if key not in duplicates:\n",
    "        duplicates[key] = professor\n",
    "    else:\n",
    "        # Take weighted average of two entries\n",
    "        n1, n2 = duplicates[key]['num_ratings'], professor['num_ratings']\n",
    "        total = n1 + n2\n",
    "        avg1, avg2 = duplicates[key]['avg_rating'], professor['avg_rating']\n",
    "        take1, take2 = duplicates[key]['would_take_again'], professor['would_take_again']\n",
    "        diff1, diff2 = duplicates[key]['avg_difficulty'], professor['avg_difficulty']\n",
    "        \n",
    "        duplicates[key]['num_ratings'] = total\n",
    "        duplicates[key]['avg_rating'] = round((avg1 * n1 + avg2 * n2) / total, 1)\n",
    "        duplicates[key]['would_take_again'] = round((take1 * n1 + take2 * n2) / total, 1)\n",
    "        duplicates[key]['avg_difficulty'] = round((diff1 * n1 + diff2 * n2) / total, 1)\n",
    "    \n",
    "\n",
    "professors = list(filter(lambda professor: professor['name'] not in duplicates_names, professors)) + list(duplicates.values())\n",
    "\n",
    "\n",
    "with open(\"data/professors.json\", \"w\") as file:\n",
    "    json.dump(professors, file, indent=2)\n"
   ]
  },
  {
   "cell_type": "markdown",
   "metadata": {},
   "source": [
    "This cell processes and aggregates the gradient data for all professors that exist on ratemyprofessor."
   ]
  },
  {
   "cell_type": "code",
   "execution_count": 36,
   "metadata": {},
   "outputs": [
    {
     "name": "stdout",
     "output_type": "stream",
     "text": [
      "Collisions: 35\n",
      "\n",
      "Not found: 557 items\n",
      "{'Maria Davis', 'David Oh', 'Lindsey Hubbard', 'Jagannadham Kasichainula', 'Christopher Salerno', 'Wayne Place', 'Elizabeth Riley', 'Min   Yang', 'Guido van der Hoeven', 'John S King', 'Christopher Cummings', 'Billy M Williams Jr', 'Michael P Lewis', 'Michael A Stanko', 'Sabrina Spencer', 'Aileen Rodriguez', 'Hatice Orun', 'Daniel Quintanilla Lopez', 'Melissa Brandon', 'Mally   Dietrich', 'Robert P. Patterson', 'Lirong Xiang', 'Arthur R Rice', 'Katherine Greder', 'Benjamin Shane Underwood', 'Paul Tesar', 'Allison Medlin', 'Zixuan Cang', 'Robert H Martin Jr', 'Matthew   Burnette', 'Matt Reynolds', 'Andrew Weaver', 'Marty Martin', 'Alexander Betz', 'Eiko Tai', 'Medwick V Byrd Jr', 'Rachel N Harris', 'Chris Halweg', 'Richard Winters', 'Joe Johnson', 'Elizabeth Anne Wilson', 'Ragan Glover-Rijkse', 'Rong Liu', 'Michelle R Jones', 'William Fortney', 'Katherine Medlin', 'Ian   Sullivan', 'John Elliott Forbes', 'William F Tolbert', 'Charles Ernest Knowles', 'Michael Andrew Sciacca Jr', 'Victoria Newton', 'J. L. Stewart', 'Meagan Kittle Autry', 'A. Blanton Godfrey', 'Alexander R Fink', 'David B Kaber', 'Jasmine Adams', 'Matthew Carter', 'Nate Johnson', 'Gail Jones', 'Andrew Greenland', 'David F Ollis', 'Austin Horne', 'Anne Marie Stomp', 'Nick Maier', 'Zachary W Brewster', 'Jenn Bedard', 'John   Westall', 'Heather Patisaul', 'Patrice Fontaine Nealon', 'David Papp', 'Camryn Elizabeth Thompson', 'Tim Wallace', 'Eui Kyung Kim', 'Madilynn McCollum Smith', 'Michael Munoz', 'Marlas Whitley', 'Tommy Petty', 'Christopher Galik', 'William   Hawkins', 'Alexandra   Grossi', 'Douglas Pierson', 'Charles   Fleming', 'Mary Helen Thuente', 'John Keith Townsend', 'Claudia Zaunz', 'Jessica Lamb', 'Justin Baker', 'Jill Anderson', 'Ed Reges', 'Beth Greene', 'Bo Liu', 'Tim Coleman', 'Edward Funkhouser', 'Carl Meyer Jr', 'M Thomas Hester', 'Katie   Lewis', 'Robert I. Bruck', 'Lawrence M Silverberg', 'Michael   Coombs', 'Victoria Lin Brown', 'Christopher G Marciano', 'Natalia Conte', 'Alexandra Doria', 'Megan Coffer', 'Carly Fleming', 'Steven Leon', 'Geraldine Luginbuhl', 'Hany Samy Abdel Khalik', 'Jorge Emilio San Juan Blanco', 'Kevin J Neiley', 'Kimberly   Ideus', 'Richard E Mandell', 'Lope Max Diaz', 'Jeremy Green', 'Laura Brower', 'Kerry Graves', 'Christopher S DePerno', 'Xiaohui Gu', 'Michael Walter Downey', 'Janelle Santos Perez', 'Caroline Christian Sloan', 'Kate Joanne Martin', 'Katherine D Moran', 'Pamela Ann Wheeler', 'Benjamin Whitley', 'Ronald K Campbell', 'James Braun', 'Caren Cooper', 'Shannon U Patton', 'Mohammad Peyravian', 'Liz Craig', 'Georgios Rouskas', 'Christopher C Krut', 'Robert A St. Amant', 'Michael Sanera', 'Margaret   Tobey', 'Elizabeth Jackson', 'Yuanjing   Wang', 'Michael Yoder', 'Christopher Isley', 'Angela Wiseman', 'Do Young Eun', 'Robert Quay Lewis', 'Kurt Smith', 'Michael Burr', 'Daniel R Obenour', 'Chris Boyer', 'Natalie Nelson', 'Diana Zhong', 'Nelson Rodrigo Vinueza Benitez', 'Theodore A Feitshans', 'Tara Lynn Thompson', 'Carlos Sanford', 'Trino Ascencio-Ibanez', 'Jie Yu', 'Alexander Gliese', 'Casey   Holmes', 'Paul Rowe', 'Adriana San Miguel', 'David L Rice', 'Alexandra McCourt', 'Alexandra   Bailey', 'Steven Allen', 'Robert Wade Knox', 'Alexander C Mclain', 'D. Scott Showalter', 'Jim Flowers', 'Katie Richardson', 'Stephen S Kelley', 'H Henry Lamb', 'Alexander Hummel', 'Lei Kang', 'Mehmet Caner', 'Juanita Pinzon Caicedo', 'Christopher Stinson', 'Lori Del Negro', 'Jason Bullock', 'Elizabeth B Wilson', 'Stephanie Reiley', 'Jia Liu', 'Kari McCloud', 'Christopher Carignan', 'Melissa Joy Wrenn', 'Xun Liu', 'Xuxian Jiang', 'Kallie   McNamara', 'Ruth Lorraine Wright', 'Nicholas Halpern', 'Sherry Stallings', 'Meryl Thomas', 'Min Liu', 'Arun Vishnu Suresh Babu', 'Donggun Lee', 'Matthew Veal', 'Cyndi Edgington', 'Ali Saleh', 'Elizabeth   Robinson', 'Martha C Brown', 'Benjamin Burner', 'Emily Wicker Ligon', 'Xu Zhang', 'Kimberly Allen', 'James Alchediak', 'Raymond B. Palmquist', 'Jianbing   Jiang', 'Marcela Pierce', 'Tommy Stephenson', 'Tara Lauren Di Cassio', 'Heather A Davis-Bauer', 'Dr. Yashpreet', 'Roger H. von Haefen', 'Christopher M Lyerly', 'Elizabeth Lane', 'Richard Ellis Kouri', 'Tim Seaboch', 'Ann D Harrington', 'Katie Martin', 'Sarah Rachels', 'Yev Brudno', 'Sara Brune', 'Andy Nowel', 'Robert Nagel', 'Greg Bottomley', 'Christopher Ryan Tichnell', 'Julie   Martin', 'George L Hodge', 'Robert P Dunn', 'David E Carter', 'Gina Lee', 'Devon Olds', 'Brandon McConnell', 'Matt Corne', 'Michaela Anne Gazdik Stofer', 'Chelsea Krieg', 'Robert M Young', 'Zachary Michael Boles', 'Corina De La Torre', 'Elisa Lorello', 'Ashley Daughtridge Everette', 'Melissa Kahn', 'D. Troy Case', 'Richard L. Goldberg', 'Erin Bakal', 'Robyn   Phillips', 'Christina Cortina', 'Xiaohan Lin', 'Christopher Hathcock', 'Ryan Murray', 'Alexandria Szakacs', 'J Mark Scearce', 'Rebeca   Calderon Lima', 'Robb Wade', 'Chris Kampe', 'Adam Mahdi', 'James Eric Ensley', 'Christa Williams Gala', 'Elizabeth Knowles', 'Ed Addison', 'L. Richard Dellafave', 'Bantval Jayant Baliga', 'Jennifer L Banks', 'Michael L. Parker', 'Beth Hawkins', 'Elizabeth Snider', 'Christopher R Daubert', 'Akcham Akchambayeva', 'Anderson Rodrigo de Queiroz PhD', 'Thomas P. Feeny', 'Luma Kennedy', 'Kim Ebert', 'Colby Fleming', 'Becky Harris', 'Dean Christian Smith', 'Robert Golub', 'Januka Budhathoki Uprety', 'Christopher Ingraham', 'Andrew Betz', 'A. Carolyn Wright', 'Xiaolei Fang', 'Nicole Willis', 'Stephen E. Margolis', 'Robert Dinterman', 'Mengran   Liu', 'Jay R Williams', 'Frank Harmon', 'John M. Miller', 'Stefan Franzen', 'John Hall', 'Matthew R Avery', 'Travis Merchant-Knudsen', 'Emily Cartwright', 'Chris   Paquette', 'Valerie Oti', 'Allan C Clark', 'Timothy Cleland', 'C Russell Philbrick', 'Arnab Sengupta', 'Michael E Laut', 'Michele Cudd', 'Jinyuan   Zhang', 'Matt Morain', 'Harvey Thomas Banks', 'David Robert Gruber', 'S. Thomas Parker', 'Chris Laws', 'Robert J Dunn', 'Daniel Balague Guardia', 'James R Horner', 'Eric Christopher Roe', 'Catherine   Neale', 'David C Johnson', 'Francisco Ponce Carrion', 'Thomas P. Warren', 'William John Stewart', 'Janell Miller', 'Andy Smolski', 'Andrew   Hall', 'Jennifer E Lee', 'Caio Batista de Melo', 'Federico Exeario Portillo Chaves', 'Christopher Colin Ladner', 'Mary Talley', 'Walter F Kelly Jr', 'Michael Ivory', 'Gabrielle Duggan', 'Eduardo Gutierrez Rodriguez', 'M. Rodrigo Castellanos', 'Patricia Roberts', 'Kimberly Dawn Ange-Van Heugten', 'Molly Renda', 'Matt Stallmann', 'Gary E. Moore', 'Luther Hill Taylor Jr', 'William M Wisser', 'Megan Codallo', 'Sheryl Long', 'Adam Howard', 'Rachel   Russell', 'Joe Zambon', 'Christina Zakas', 'Jennifer Kern Remy', 'Erin S White', 'Andrew Lee', 'Roy H Borden Jr', 'Meredith Martin', 'Jacqueline Krim', 'Daryl E Johnson', 'Elizabeth White', 'Matthew Broussard', 'Shuang   Liang', 'Joi Jackson', 'Charlie Clarke', 'Kristen J Schaffer', 'Amanda Kates', 'William Cousins', 'Anitya Morgan Root', 'So Yun Kim', 'Shannon Y Brandt', 'Hannah Kriner', 'Lindsay Key', 'Latasha D Williams', 'Lauren Nogle', 'Amanda Bernstein', 'Jon Carr', 'Deborah K Wagner', 'Sarah Chetty Rowe', 'Robert   Narron', 'Adriana Araujo de Souza e Silva', 'Hadea Nell Kriesberg', 'Chris Tonelli', 'Laura Beth Fitzwater Gonzales', 'Maximilian Krochmal', 'Derek Martin', 'William Rhett Davis', 'Daniel C Bowman', 'Ben Heard', 'Jane P Mitchell', 'Francisco   Martin', 'Christopher Schell', 'Catherine Wallwork Horne', 'Melanie A Simpson', 'Chris McKittrick', 'Katie Graham', 'Qingyang   Liu', 'Michael S Wogalter', 'Michael J Borden', 'Shuyang   Wang', 'Erin Lee Koehler', 'Lihan Chen', 'Jack Wang', 'Matthew T Comer', 'Amanda Caton Mills', 'Ronald Webster West', 'Lor Simpson', 'Gustaf Atilla Torbjorn Hallsby', 'Regina Gavin Williams', 'Mary Katherine Thorn', 'M. Shamimur Rahman', 'Joseph Purvis', 'Zao Wang', 'Seong Hee Cho', 'A Sidney Knowles Jr', 'Ellen Rebekah Siceloff', 'Jasmine Lee', 'Erin Powell', 'Ranga Raju Vatsavai', 'David Hinks', 'Shana R Gillen', 'William Garner', 'Emilia   Cordero Oceguera', 'Bob Bucy', 'Yunan Liu', 'Kenneth P. Vickery', 'John Michaels', 'Barbara Goldentyer', 'Eric Money', 'Steph Jeffries', 'Barbara Fair', 'Dong Wang', 'Hannah Carson Baggett', 'Christopher Doolin Yoder', 'James J Brickley Jr', 'Xiaoqin Yan', 'Jonathan Michael Lee', 'Ting Yu', 'Luis Daniel Perez Labra', 'Jayalakshmi Chandrika Satyavolu', 'Evan Brisson', 'Alyssa Wenzel', 'Theodore J Branoff', 'Shaun Patrick Martin', 'Sam Munzer', 'Alexandre Hartl', 'Jack Ray Edwards Jr', 'Heather Harris', 'William Stacey Cochran', 'Alex Cohen', 'David Lee', 'Bradley R Ray', 'Angela Smith Shores', 'Chloe Shin', 'Ellen Weinstein', 'Zo Webster', 'Doug Gillan', 'Jiayin Li', 'Anthony Frank Wilson', 'Michael Joseph Lee', 'Steven Robert Weber', 'Alexander Deiters', 'Katherine Johnson', 'Dayne Hamrick', 'Jeffrey P Lewis', 'Samantha Pell', 'Robert Henry', 'Dan Spencer', 'Aaron Michael Watson', 'Alexandra Laura Allen', 'Sally Van Gorder', 'Jennifer James', 'Robin Clayton', 'Christopher Gunter', 'Michael Sean June', 'Chris Brown', 'Meredith   Foulke', 'Jim Knowles', 'Christopher M Dawson', 'Dana Jones', 'Lin Walker', 'Jiangdian Wang', 'Wenxing Tang', 'Christopher Collins', 'Earl Dwayne Cornelison', 'Ye Liu', 'Jennifer Bell Howard', 'Matt D Leight', 'Benjamin R Brulet', 'Lijuan Wang', 'David Brian Hill', 'Greg Byrd', 'James R Thompson', 'Laura Colmenarejo', 'Karen M Stapleton', 'Brian Newton', 'Yang Zhang', 'Benjamin G. Bobay', 'Charlotte Gross', 'Sarah Parsons', 'Thomas R Hepler', 'Michael Barrett', 'Julia   Wray', 'Jack Wilson', 'Bethany Erin Van Scooter', 'Alexander Lopez', 'Maddie Moore', 'Hannah Bollinger Peterson', 'Wenguang Sun', 'Erin Banks', 'Jessica Torres', 'Michael Waddington', 'Jamie Pearson', 'William B Sloan', 'David Stokes', 'Thomas E Nelson', 'Margaret Frey', 'Pa Nhia Moore', 'Jordan William Smith', 'Daniel Michael Maroncelli', 'William E Wormsley', 'Ariel   Kaplowitz', 'Sarah Perkins', 'Alexis Slay', 'Diego Castedo Pena', 'Raven   Williams', 'Richard D. Waters', 'Qiang Wang', 'Kevin Wright', 'Wesley Henderson', 'Geena Washington', 'Jeffrey M Pollack', 'Krishna Pacifici', 'Willard E. Hooker', 'William F Hunt Jr', 'Thomas Theis', 'Greg Jennings', 'Christopher   Serenari', 'Thomas Schaefer', 'Megan Glancy', 'Eric D. Carpenter', 'Michael Rodriguez', 'Katie Barnhill', 'Meghan Tanaka', 'Daniel Gruehn', 'Ming Jiang', 'Donald Sheehy', 'Zach Williams', 'Christopher   Sanchez', 'Andrew O Hasley', 'Christopher Reid Ellis', 'Katie Peachey', 'Anna Rita Bonaduce-Dresler', 'Xu Liu', 'William Wilton Barnhardt', 'Tomislav Vukina', 'Tammrah S Gordon', 'Zhizi Chen', 'Amanda Criner', 'Charles C Finley', 'Yiling Wang', 'Michael S. Bereman', 'Arpan Chakraborty', 'Jack Register', 'K. Shannon Davis', 'R. Bryan Ormond', 'John A Doyle Jr', 'Christina Ragone'}\n",
      "\n",
      "[('robert petters', ['Robert M. Petters', 'Robert A Peterson']), ('thomas wentworth', ['Thomas R. Wentworth', 'Thomas A Wentworth']), ('matthew watson', ['Matthew Clay Watson', 'Matthew Bradley Watson']), ('alexander dean', ['Alexander G. Dean', 'Alexander J DeGrand']), ('joseph johnson', ['Joseph A Johnson', 'Joseph Johnson']), ('kari smith', ['Kari Lynn Smith', 'Kara Ann Smith']), ('sarah brown', ['Sarah Bleam Brown', 'Sara J Brown'])]\n"
     ]
    }
   ],
   "source": [
    "import json\n",
    "import difflib\n",
    "\n",
    "with open(\"data/professors.json\", \"r\") as file:\n",
    "    professors = {professor[\"id\"]: professor for professor in json.load(file)}  # {id: {professor info}}\n",
    "    professor_names = [professor[\"name\"].lower() for professor in professors.values()]\n",
    "    \n",
    "with open(\"data/filtered_distributions.json\", \"r\") as file:\n",
    "    distributions = json.load(file)\n",
    "\n",
    "# To be filled in manually and then converted to dataframe (and then stored as .csv)\n",
    "professors_info = {\"Name\": [], \"College\": [], \"Quality Score\": [], \"Difficulty Score\": [], \"GPA\": [], \"Would Take Again\": [], \"Number of Ratings\": []}\n",
    "\n",
    "name_map = {}\n",
    "not_found = set()\n",
    "collisions = 0\n",
    "for section in distributions:\n",
    "    full_name = \" \".join(section[\"instructorName\"].split(\",\", 1)[::-1])\n",
    "\n",
    "    # drop middle name and roman numeral and phd\n",
    "    split_name = full_name.split()\n",
    "    if all(c in 'IV' for c in split_name[-1].upper()) or split_name[-1].lower() == 'phd':\n",
    "        name = ' '.join([split_name[0], split_name[-2]])\n",
    "    else:\n",
    "        name = ' '.join([split_name[0], split_name[-1]])\n",
    "    result = difflib.get_close_matches(name.lower(), professor_names, n=1, cutoff=0.89)\n",
    "    if not result:\n",
    "        not_found.add(full_name)\n",
    "        continue\n",
    "    \n",
    "    result = result[0]\n",
    "    if result in name_map.keys() and full_name not in name_map[result]:\n",
    "        name_map[result].append(full_name)\n",
    "        collisions += 1\n",
    "    else:\n",
    "        name_map[result] = [full_name]\n",
    "\n",
    "print(f'Collisions: {collisions}\\n')\n",
    "print(f'Not found: {len(not_found)} items')\n",
    "print(not_found)\n",
    "print()\n",
    "print([(key, value) for (key, value) in name_map.items() if len(value) > 1])\n",
    "\n",
    "\n",
    "    # TODO: join the ratemyprofessors and gradient data into a single json/csv, drop professors that don't exist in both\n"
   ]
  },
  {
   "cell_type": "code",
   "execution_count": 44,
   "metadata": {},
   "outputs": [
    {
     "name": "stdout",
     "output_type": "stream",
     "text": [
      "Number of found items: 61211\n"
     ]
    }
   ],
   "source": [
    "# special_cases = [\"Longerbeam II,Nick Alexander\", \"Johnson,Joseph A\", \"Ro,Paul I\", \"Webster,Zo\"]\n",
    "# special_cases = ['Webster,Zo']\n",
    "# for i in special_cases:\n",
    "#     not_found.remove(i)\n",
    "relevant_sections = [sect for sect in distributions if \" \".join(sect[\"instructorName\"].split(\",\", 1)[::-1]) not in not_found]\n",
    "print(f'Number of found items: {len(relevant_sections)}')\n",
    "\n",
    "with open(\"further_filtered_distributions.json\", \"w\") as file:\n",
    "    json.dump(relevant_sections, file, indent=2)"
   ]
  },
  {
   "cell_type": "markdown",
   "metadata": {},
   "source": [
    "### 3. Model Processing\n",
    "This stage involves the application of a tuned clusternig algorithm to the data. The clustering algorithm will group similar data points together, and evaulate the homogeniety of the classes of the clusters (the similiarity of professors in the same departments). This step allows us to identify patterns and relationships within the data."
   ]
  },
  {
   "cell_type": "code",
   "execution_count": null,
   "metadata": {},
   "outputs": [],
   "source": [
    "# TODO: Decide on clustering aglorithm and tuning approach\n",
    "# TODO: Perform tuned clustering on professor data points\n",
    "# TODO: Calculate homogeniety of clusters"
   ]
  },
  {
   "cell_type": "markdown",
   "metadata": {},
   "source": [
    "### 4. Visualization\n",
    "This stage involves generating visuals to analyze and find patterns in the data."
   ]
  },
  {
   "cell_type": "code",
   "execution_count": null,
   "metadata": {},
   "outputs": [],
   "source": [
    "# TODO: Visualize data points and rating distributions for each college individually\n",
    "# TODO: Visualize aggregation + average of data points and rating distributions for all colleges\n",
    "# TODO: Visualize "
   ]
  },
  {
   "cell_type": "markdown",
   "metadata": {},
   "source": [
    "### 5. Interpretation\n",
    "This stage involves computing metrics to drive insights about the data."
   ]
  },
  {
   "cell_type": "code",
   "execution_count": null,
   "metadata": {},
   "outputs": [],
   "source": [
    "# TODO: Calculate and compare weighted averages of ratings for each college, compare to global averages\n",
    "# TODO: Calculate metrics like standard deviation, median, outliers, for each college and globally\n",
    "# TODO: Compare expected salary with average ratings for each college"
   ]
  }
 ],
 "metadata": {
  "kernelspec": {
   "display_name": "Python 3",
   "language": "python",
   "name": "python3"
  },
  "language_info": {
   "codemirror_mode": {
    "name": "ipython",
    "version": 3
   },
   "file_extension": ".py",
   "mimetype": "text/x-python",
   "name": "python",
   "nbconvert_exporter": "python",
   "pygments_lexer": "ipython3",
   "version": "3.12.5"
  }
 },
 "nbformat": 4,
 "nbformat_minor": 2
}
